{
 "cells": [
  {
   "cell_type": "code",
   "execution_count": 4,
   "id": "053d3402",
   "metadata": {},
   "outputs": [
    {
     "name": "stderr",
     "output_type": "stream",
     "text": [
      "Using cache found in /home/midev/.cache/torch/hub/ultralytics_yolov5_master\n",
      "YOLOv5 🚀 2022-9-22 Python-3.10.4 torch-1.12.1+cu102 CPU\n",
      "\n",
      "Fusing layers... \n",
      "YOLOv5s summary: 213 layers, 7225885 parameters, 0 gradients\n",
      "Adding AutoShape... \n"
     ]
    },
    {
     "name": "stdout",
     "output_type": "stream",
     "text": [
      "image 1/1: 1080x810 4 persons, 1 bus\n",
      "Speed: 1477.5ms pre-process, 226.9ms inference, 3.2ms NMS per image at shape (1, 3, 640, 480)\n",
      "image 1/1: 1080x810 4 persons, 1 bus\n",
      "Speed: 1477.5ms pre-process, 226.9ms inference, 3.2ms NMS per image at shape (1, 3, 640, 480)\n"
     ]
    }
   ],
   "source": [
    "import torch\n",
    "\n",
    "# Model\n",
    "model = torch.hub.load('ultralytics/yolov5', 'yolov5s')\n",
    "\n",
    "# Images\n",
    "dir = 'https://github.com/ultralytics/yolov5/raw/master/data/images/'\n",
    "imgs = [dir +'bus.jpg']  # batch of images\n",
    "\n",
    "# Inference\n",
    "results = model(imgs)\n",
    "\n",
    "print(results.tolist()[0])\n",
    "print(results.pandas())  # or .show(), .save()\n"
   ]
  },
  {
   "cell_type": "code",
   "execution_count": null,
   "id": "fe0eb916",
   "metadata": {},
   "outputs": [],
   "source": [
    "results.show()"
   ]
  },
  {
   "cell_type": "code",
   "execution_count": null,
   "id": "49f4fc36",
   "metadata": {},
   "outputs": [
    {
     "data": {
      "text/plain": [
       "(1, 3, 640, 480)"
      ]
     },
     "execution_count": 10,
     "metadata": {},
     "output_type": "execute_result"
    }
   ],
   "source": [
    "results.s"
   ]
  },
  {
   "cell_type": "code",
   "execution_count": null,
   "id": "abb79d5d",
   "metadata": {},
   "outputs": [
    {
     "data": {
      "text/plain": [
       "[tensor([[6.71788e+02, 3.95372e+02, 8.10000e+02, 8.78361e+02, 8.96172e-01, 0.00000e+00],\n",
       "         [2.20657e+02, 4.08141e+02, 3.46167e+02, 8.67381e+02, 8.70248e-01, 0.00000e+00],\n",
       "         [4.92508e+01, 3.89991e+02, 2.48078e+02, 9.12459e+02, 8.51563e-01, 0.00000e+00],\n",
       "         [1.26509e+01, 2.23378e+02, 8.09707e+02, 7.88516e+02, 8.49334e-01, 5.00000e+00],\n",
       "         [4.54280e-02, 5.52411e+02, 6.78823e+01, 8.75375e+02, 5.34942e-01, 0.00000e+00]])]"
      ]
     },
     "execution_count": 13,
     "metadata": {},
     "output_type": "execute_result"
    }
   ],
   "source": [
    "results.pred"
   ]
  },
  {
   "cell_type": "raw",
   "id": "be2c79d8",
   "metadata": {},
   "source": [
    "results.pred.c"
   ]
  },
  {
   "cell_type": "code",
   "execution_count": 5,
   "id": "64bf39b8",
   "metadata": {},
   "outputs": [],
   "source": [
    "df = results.pandas().xyxy[0].sort_values(by=['confidence'], ascending=False)"
   ]
  },
  {
   "cell_type": "raw",
   "id": "70281da8",
   "metadata": {},
   "source": [
    "df"
   ]
  },
  {
   "cell_type": "code",
   "execution_count": null,
   "id": "c89c4de8",
   "metadata": {},
   "outputs": [
    {
     "data": {
      "text/plain": [
       "xmin          671.787903\n",
       "ymin          395.372131\n",
       "xmax               810.0\n",
       "ymax          878.361328\n",
       "confidence      0.896172\n",
       "class                  0\n",
       "name              person\n",
       "Name: 0, dtype: object"
      ]
     },
     "execution_count": 39,
     "metadata": {},
     "output_type": "execute_result"
    }
   ],
   "source": [
    "df.loc[0]"
   ]
  },
  {
   "cell_type": "code",
   "execution_count": null,
   "id": "9d4c86e8",
   "metadata": {},
   "outputs": [],
   "source": []
  },
  {
   "cell_type": "code",
   "execution_count": 6,
   "id": "4db5b684",
   "metadata": {},
   "outputs": [
    {
     "data": {
      "text/plain": [
       "'person'"
      ]
     },
     "execution_count": 6,
     "metadata": {},
     "output_type": "execute_result"
    }
   ],
   "source": [
    "df[['name','confidence']].loc[0]['name']"
   ]
  },
  {
   "cell_type": "code",
   "execution_count": null,
   "id": "30f97bc2",
   "metadata": {},
   "outputs": [],
   "source": []
  },
  {
   "cell_type": "code",
   "execution_count": null,
   "id": "7bbdee3a",
   "metadata": {},
   "outputs": [],
   "source": []
  }
 ],
 "metadata": {
  "kernelspec": {
   "display_name": "Python 3.10.4 64-bit",
   "language": "python",
   "name": "python3"
  },
  "language_info": {
   "codemirror_mode": {
    "name": "ipython",
    "version": 3
   },
   "file_extension": ".py",
   "mimetype": "text/x-python",
   "name": "python",
   "nbconvert_exporter": "python",
   "pygments_lexer": "ipython3",
   "version": "3.10.4"
  },
  "vscode": {
   "interpreter": {
    "hash": "916dbcbb3f70747c44a77c7bcd40155683ae19c65e1c03b4aa3499c5328201f1"
   }
  }
 },
 "nbformat": 4,
 "nbformat_minor": 5
}
